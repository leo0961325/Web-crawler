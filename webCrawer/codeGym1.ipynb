{
    "cells": [
        {
            "cell_type": "code",
            "execution_count": 1,
            "source": [
                "import requests\r\n",
                "from bs4 import BeautifulSoup\r\n",
                "\r\n",
                "#response\r\n",
                "resp = requests.get('https://code-gym.github.io/spider_demo/')\r\n",
                "#給 soup解析(resp.txt文字內容, 以及如何解析)\r\n",
                "soup = BeautifulSoup(resp.text,'html5lib')\r\n",
                "print(soup.find('h1').text) # 加上.text剔除h1標籤\r\n",
                "print(soup.h1.text) #這個也行拉"
            ],
            "outputs": [
                {
                    "output_type": "stream",
                    "name": "stdout",
                    "text": [
                        "Code Gym 爬蟲教學\n",
                        "Code Gym 爬蟲教學\n"
                    ]
                }
            ],
            "metadata": {}
        },
        {
            "cell_type": "markdown",
            "source": [
                "findAll 標籤"
            ],
            "metadata": {}
        },
        {
            "cell_type": "code",
            "execution_count": 2,
            "source": [
                "for h3 in soup.find_all('h3'):\r\n",
                "    print(h3.a) #印出h3 a標籤的部分"
            ],
            "outputs": [
                {
                    "output_type": "stream",
                    "name": "stdout",
                    "text": [
                        "None\n",
                        "<a href=\"blog-post.html\">JavaScript (簡稱 JS) 是具有一級函數的輕量級、直譯式或即時編譯（JIT-compiled）的程式語言。\n",
                        "         </a>\n",
                        "<a href=\"blog-post.html\">jQuery是一套跨瀏覽器的JavaScript函式庫，簡化HTML與JavaScript之間的操作。\n",
                        "         </a>\n",
                        "<a href=\"blog-post.html\">web design 涵蓋了製作和維護網站的許多不同的技能和學科。它包含了網頁圖形設計、介面設計等技術。</a>\n",
                        "<a href=\"blog-post.html\">JavaScript (簡稱 JS) 是具有一級函數的輕量級、直譯式或即時編譯（JIT-compiled）的程式語言。\n",
                        "         </a>\n",
                        "<a href=\"blog-post.html\">jQuery是一套跨瀏覽器的JavaScript函式庫，簡化HTML與JavaScript之間的操作。\n",
                        "         </a>\n",
                        "<a href=\"blog-post.html\">淺談 JavaScript 頭號難題 this\n",
                        "         </a>\n",
                        "<a href=\"blog-post.html\">層疊樣式表（英語：Cascading Style Sheets，簡寫CSS），又稱串樣式列表\n",
                        "         </a>\n",
                        "<a href=\"blog-post.html\">RWD網頁設計趨勢\n",
                        "         </a>\n",
                        "None\n",
                        "None\n",
                        "None\n"
                    ]
                }
            ],
            "metadata": {}
        },
        {
            "cell_type": "markdown",
            "source": [
                "使用class取得網頁中元素資料"
            ],
            "metadata": {}
        },
        {
            "cell_type": "code",
            "execution_count": 4,
            "source": [
                "for title in soup.find_all('h3','post-title'): #class = post-title\r\n",
                "    print(title.a)\r\n"
            ],
            "outputs": [
                {
                    "output_type": "stream",
                    "name": "stdout",
                    "text": [
                        "<a href=\"blog-post.html\">JavaScript (簡稱 JS) 是具有一級函數的輕量級、直譯式或即時編譯（JIT-compiled）的程式語言。\n",
                        "         </a>\n",
                        "<a href=\"blog-post.html\">jQuery是一套跨瀏覽器的JavaScript函式庫，簡化HTML與JavaScript之間的操作。\n",
                        "         </a>\n",
                        "<a href=\"blog-post.html\">web design 涵蓋了製作和維護網站的許多不同的技能和學科。它包含了網頁圖形設計、介面設計等技術。</a>\n",
                        "<a href=\"blog-post.html\">JavaScript (簡稱 JS) 是具有一級函數的輕量級、直譯式或即時編譯（JIT-compiled）的程式語言。\n",
                        "         </a>\n",
                        "<a href=\"blog-post.html\">jQuery是一套跨瀏覽器的JavaScript函式庫，簡化HTML與JavaScript之間的操作。\n",
                        "         </a>\n",
                        "<a href=\"blog-post.html\">淺談 JavaScript 頭號難題 this\n",
                        "         </a>\n",
                        "<a href=\"blog-post.html\">層疊樣式表（英語：Cascading Style Sheets，簡寫CSS），又稱串樣式列表\n",
                        "         </a>\n",
                        "<a href=\"blog-post.html\">RWD網頁設計趨勢\n",
                        "         </a>\n"
                    ]
                }
            ],
            "metadata": {}
        },
        {
            "cell_type": "markdown",
            "source": [
                "使用 key-value 取得網頁中元素資料\r\n"
            ],
            "metadata": {}
        },
        {
            "cell_type": "code",
            "execution_count": 7,
            "source": [
                "for cat in soup.find_all('a',{'class':'post-category','class':'cat-1'}): #有兩個class \r\n",
                "    print(cat)"
            ],
            "outputs": [
                {
                    "output_type": "stream",
                    "name": "stdout",
                    "text": [
                        "<a class=\"post-category cat-1\" href=\"category.html\">Web Design</a>\n",
                        "<a class=\"post-category cat-1\" href=\"category.html\">Web Design</a>\n"
                    ]
                }
            ],
            "metadata": {}
        },
        {
            "cell_type": "markdown",
            "source": [
                "抓取部落格文章標題和資訊"
            ],
            "metadata": {}
        },
        {
            "cell_type": "code",
            "execution_count": 8,
            "source": [
                "for posts in soup.find_all('div','post-body'):\r\n",
                "    for post in posts.stripped_strings: #減少標籤何不必要的跳行符號等\r\n",
                "        print(post)"
            ],
            "outputs": [
                {
                    "output_type": "stream",
                    "name": "stdout",
                    "text": [
                        "JavaScript\n",
                        "March 1, 2019\n",
                        "JavaScript (簡稱 JS) 是具有一級函數的輕量級、直譯式或即時編譯（JIT-compiled）的程式語言。\n",
                        "Jquery\n",
                        "March 2, 2019\n",
                        "jQuery是一套跨瀏覽器的JavaScript函式庫，簡化HTML與JavaScript之間的操作。\n",
                        "Web Design\n",
                        "March 5, 2019\n",
                        "web design 涵蓋了製作和維護網站的許多不同的技能和學科。它包含了網頁圖形設計、介面設計等技術。\n",
                        "JavaScript\n",
                        "March 8, 2019\n",
                        "JavaScript (簡稱 JS) 是具有一級函數的輕量級、直譯式或即時編譯（JIT-compiled）的程式語言。\n",
                        "Jquery\n",
                        "March 13, 2019\n",
                        "jQuery是一套跨瀏覽器的JavaScript函式庫，簡化HTML與JavaScript之間的操作。\n",
                        "JavaScript\n",
                        "March 18, 2019\n",
                        "淺談 JavaScript 頭號難題 this\n",
                        "Css\n",
                        "March 22, 2019\n",
                        "層疊樣式表（英語：Cascading Style Sheets，簡寫CSS），又稱串樣式列表\n",
                        "Web Design\n",
                        "March 26, 2019\n",
                        "RWD網頁設計趨勢\n"
                    ]
                }
            ],
            "metadata": {}
        }
    ],
    "metadata": {
        "orig_nbformat": 4,
        "language_info": {
            "name": "python",
            "version": "3.8.5",
            "mimetype": "text/x-python",
            "codemirror_mode": {
                "name": "ipython",
                "version": 3
            },
            "pygments_lexer": "ipython3",
            "nbconvert_exporter": "python",
            "file_extension": ".py"
        },
        "kernelspec": {
            "name": "python3",
            "display_name": "Python 3.8.5 32-bit ('venv': venv)"
        },
        "interpreter": {
            "hash": "bb476b5b9187090d27a4845e6e9ca2b345d42b269a7ce5ec66b9b1817233f7ae"
        }
    },
    "nbformat": 4,
    "nbformat_minor": 2
}