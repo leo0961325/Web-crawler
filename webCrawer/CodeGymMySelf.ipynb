{
 "cells": [
  {
   "cell_type": "code",
   "execution_count": 4,
   "source": [
    "import requests\r\n",
    "from bs4 import BeautifulSoup\r\n",
    "\r\n",
    "response = requests.get('https://code-gym.github.io/spider_demo/')\r\n",
    "soup = BeautifulSoup(response.text,'html5lib')\r\n",
    "\r\n",
    "ul = soup.find('ul')\r\n",
    "for li in ul.children:\r\n",
    "    print(li.text)\r\n"
   ],
   "outputs": [
    {
     "output_type": "stream",
     "name": "stdout",
     "text": [
      "News\n",
      "Popular\n",
      "Web Design\n",
      "JavaScript\n",
      "Css\n",
      "Jquery\n"
     ]
    }
   ],
   "metadata": {}
  },
  {
   "cell_type": "code",
   "execution_count": 5,
   "source": [
    "for posts in soup.find_all('div','post-body'):\r\n",
    "    for post in posts.stripped_strings:\r\n",
    "        print(post)"
   ],
   "outputs": [
    {
     "output_type": "stream",
     "name": "stdout",
     "text": [
      "JavaScript\n",
      "March 1, 2019\n",
      "JavaScript (簡稱 JS) 是具有一級函數的輕量級、直譯式或即時編譯（JIT-compiled）的程式語言。\n",
      "Jquery\n",
      "March 2, 2019\n",
      "jQuery是一套跨瀏覽器的JavaScript函式庫，簡化HTML與JavaScript之間的操作。\n",
      "Web Design\n",
      "March 5, 2019\n",
      "web design 涵蓋了製作和維護網站的許多不同的技能和學科。它包含了網頁圖形設計、介面設計等技術。\n",
      "JavaScript\n",
      "March 8, 2019\n",
      "JavaScript (簡稱 JS) 是具有一級函數的輕量級、直譯式或即時編譯（JIT-compiled）的程式語言。\n",
      "Jquery\n",
      "March 13, 2019\n",
      "jQuery是一套跨瀏覽器的JavaScript函式庫，簡化HTML與JavaScript之間的操作。\n",
      "JavaScript\n",
      "March 18, 2019\n",
      "淺談 JavaScript 頭號難題 this\n",
      "Css\n",
      "March 22, 2019\n",
      "層疊樣式表（英語：Cascading Style Sheets，簡寫CSS），又稱串樣式列表\n",
      "Web Design\n",
      "March 26, 2019\n",
      "RWD網頁設計趨勢\n"
     ]
    }
   ],
   "metadata": {}
  },
  {
   "cell_type": "code",
   "execution_count": 6,
   "source": [
    "for tag in soup.find_all('div','post-meta'):\r\n",
    "    print(tag.a.text)"
   ],
   "outputs": [
    {
     "output_type": "stream",
     "name": "stdout",
     "text": [
      "JavaScript\n",
      "Jquery\n",
      "Web Design\n",
      "JavaScript\n",
      "Jquery\n",
      "JavaScript\n",
      "Css\n",
      "Web Design\n"
     ]
    }
   ],
   "metadata": {}
  },
  {
   "cell_type": "code",
   "execution_count": 8,
   "source": [
    "for content in soup.find_all('h3','post-title'):\r\n",
    "    print(content.a.text)"
   ],
   "outputs": [
    {
     "output_type": "stream",
     "name": "stdout",
     "text": [
      "JavaScript (簡稱 JS) 是具有一級函數的輕量級、直譯式或即時編譯（JIT-compiled）的程式語言。\n",
      "         \n",
      "jQuery是一套跨瀏覽器的JavaScript函式庫，簡化HTML與JavaScript之間的操作。\n",
      "         \n",
      "web design 涵蓋了製作和維護網站的許多不同的技能和學科。它包含了網頁圖形設計、介面設計等技術。\n",
      "JavaScript (簡稱 JS) 是具有一級函數的輕量級、直譯式或即時編譯（JIT-compiled）的程式語言。\n",
      "         \n",
      "jQuery是一套跨瀏覽器的JavaScript函式庫，簡化HTML與JavaScript之間的操作。\n",
      "         \n",
      "淺談 JavaScript 頭號難題 this\n",
      "         \n",
      "層疊樣式表（英語：Cascading Style Sheets，簡寫CSS），又稱串樣式列表\n",
      "         \n",
      "RWD網頁設計趨勢\n",
      "         \n"
     ]
    }
   ],
   "metadata": {}
  },
  {
   "cell_type": "code",
   "execution_count": 15,
   "source": [
    "findId = soup.find(id='nav')\r\n",
    "print(findId)"
   ],
   "outputs": [
    {
     "output_type": "stream",
     "name": "stdout",
     "text": [
      "<div id=\"nav\">\n",
      "    <!-- Main Nav -->\n",
      "    <div id=\"nav-fixed\">\n",
      "     <div class=\"container\">\n",
      "      <!-- logo -->\n",
      "      <div class=\"nav-logo\">\n",
      "       <a class=\"logo\" href=\"index.html\"><img alt=\"\" src=\"./img/logo.png\"/></a>\n",
      "      </div>\n",
      "      <!-- /logo -->\n",
      "\n",
      "      <!-- nav -->\n",
      "      <ul class=\"nav-menu nav navbar-nav\"><li><a href=\"#\">News</a></li><li><a href=\"#\">Popular</a></li><li class=\"cat-1\"><a href=\"#\">Web Design</a></li><li class=\"cat-2\"><a href=\"#\">JavaScript</a></li><li class=\"cat-3\"><a href=\"#\">Css</a></li><li class=\"cat-4\"><a href=\"#\">Jquery</a></li></ul>\n",
      "      <!-- /nav -->\n",
      "     </div>\n",
      "    </div>\n",
      "    <!-- /Main Nav -->\n",
      "  </div>\n"
     ]
    }
   ],
   "metadata": {}
  },
  {
   "cell_type": "code",
   "execution_count": 29,
   "source": [
    "li_sub_first = soup.find('li','cat-1')\r\n",
    "print(li_sub_first)\r\n",
    "for li_sub in li_sub_first.next_siblings:\r\n",
    "    print(li_sub)\r\n"
   ],
   "outputs": [
    {
     "output_type": "stream",
     "name": "stdout",
     "text": [
      "<li class=\"cat-1\"><a href=\"#\">Web Design</a></li>\n",
      "<li class=\"cat-2\"><a href=\"#\">JavaScript</a></li>\n",
      "<li class=\"cat-3\"><a href=\"#\">Css</a></li>\n",
      "<li class=\"cat-4\"><a href=\"#\">Jquery</a></li>\n"
     ]
    }
   ],
   "metadata": {}
  },
  {
   "cell_type": "markdown",
   "source": [
    "拿取footer的 li"
   ],
   "metadata": {}
  },
  {
   "cell_type": "code",
   "execution_count": 11,
   "source": [
    "ul_footer = soup.find('ul','footer-links')\r\n",
    "for li in ul_footer.children:\r\n",
    "    print(li)"
   ],
   "outputs": [
    {
     "output_type": "stream",
     "name": "stdout",
     "text": [
      "\n",
      "          \n",
      "<li><a href=\"#\">About Us</a></li>\n",
      "\n",
      "          \n",
      "<li><a href=\"#\">Join Us</a></li>\n",
      "\n",
      "          \n",
      "<li><a href=\"#\">Contacts</a></li>\n",
      "\n",
      "         \n"
     ]
    }
   ],
   "metadata": {}
  }
 ],
 "metadata": {
  "orig_nbformat": 4,
  "language_info": {
   "name": "python",
   "version": "3.8.5",
   "mimetype": "text/x-python",
   "codemirror_mode": {
    "name": "ipython",
    "version": 3
   },
   "pygments_lexer": "ipython3",
   "nbconvert_exporter": "python",
   "file_extension": ".py"
  },
  "kernelspec": {
   "name": "python3",
   "display_name": "Python 3.8.5 32-bit ('venv': venv)"
  },
  "interpreter": {
   "hash": "bb476b5b9187090d27a4845e6e9ca2b345d42b269a7ce5ec66b9b1817233f7ae"
  }
 },
 "nbformat": 4,
 "nbformat_minor": 2
}