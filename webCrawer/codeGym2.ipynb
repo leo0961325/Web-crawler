{
    "cells": [
        {
            "cell_type": "markdown",
            "source": [
                "爬蟲範例教學2\r\n",
                "https://code-gym.github.io/spider_demo/"
            ],
            "metadata": {}
        },
        {
            "cell_type": "code",
            "execution_count": 2,
            "source": [
                "import requests\r\n",
                "from bs4 import BeautifulSoup\r\n",
                "\r\n",
                "response = requests.get('https://code-gym.github.io/spider_demo/')\r\n",
                "soup = BeautifulSoup(response.text,'html5lib')\r\n"
            ],
            "outputs": [],
            "metadata": {}
        },
        {
            "cell_type": "markdown",
            "source": [
                "Parent尋找父節點"
            ],
            "metadata": {}
        },
        {
            "cell_type": "code",
            "execution_count": 3,
            "source": [
                "nav = soup.find(id = 'nav')\r\n",
                "header = nav.parent  #透過nav再找parent\r\n",
                "print(header)"
            ],
            "outputs": [
                {
                    "output_type": "stream",
                    "name": "stdout",
                    "text": [
                        "<header id=\"header\">\n",
                        "   <!-- Nav -->\n",
                        "   <div id=\"nav\">\n",
                        "    <!-- Main Nav -->\n",
                        "    <div id=\"nav-fixed\">\n",
                        "     <div class=\"container\">\n",
                        "      <!-- logo -->\n",
                        "      <div class=\"nav-logo\">\n",
                        "       <a class=\"logo\" href=\"index.html\"><img alt=\"\" src=\"./img/logo.png\"/></a>\n",
                        "      </div>\n",
                        "      <!-- /logo -->\n",
                        "\n",
                        "      <!-- nav -->\n",
                        "      <ul class=\"nav-menu nav navbar-nav\"><li><a href=\"#\">News</a></li><li><a href=\"#\">Popular</a></li><li class=\"cat-1\"><a href=\"#\">Web Design</a></li><li class=\"cat-2\"><a href=\"#\">JavaScript</a></li><li class=\"cat-3\"><a href=\"#\">Css</a></li><li class=\"cat-4\"><a href=\"#\">Jquery</a></li></ul>\n",
                        "      <!-- /nav -->\n",
                        "     </div>\n",
                        "    </div>\n",
                        "    <!-- /Main Nav -->\n",
                        "  </div></header>\n"
                    ]
                }
            ],
            "metadata": {}
        },
        {
            "cell_type": "markdown",
            "source": [
                "尋找平行的兄弟節點 li\r\n",
                "- 前一個 previous_sibling\r\n",
                "- 後一個 next_sibling"
            ],
            "metadata": {}
        },
        {
            "cell_type": "code",
            "execution_count": 10,
            "source": [
                "javascript = soup.find('li','cat-2') #class = 'cat-2'\r\n",
                "print(javascript)\r\n",
                "print(javascript.previous_sibling)\r\n",
                "for next_sibling in javascript.next_siblings : #用迴圈把之後的car-3 cat-4也印出來\r\n",
                "    print(next_sibling)"
            ],
            "outputs": [
                {
                    "output_type": "stream",
                    "name": "stdout",
                    "text": [
                        "<li class=\"cat-2\"><a href=\"#\">JavaScript</a></li>\n",
                        "<li class=\"cat-1\"><a href=\"#\">Web Design</a></li>\n",
                        "<li class=\"cat-3\"><a href=\"#\">Css</a></li>\n",
                        "<li class=\"cat-4\"><a href=\"#\">Jquery</a></li>\n"
                    ]
                }
            ],
            "metadata": {}
        },
        {
            "cell_type": "markdown",
            "source": [
                "尋找子節點 children"
            ],
            "metadata": {}
        },
        {
            "cell_type": "code",
            "execution_count": 11,
            "source": [
                "ul = soup.find('ul')\r\n",
                "for li in ul.children :\r\n",
                "    print(li.find('a'))"
            ],
            "outputs": [
                {
                    "output_type": "stream",
                    "name": "stdout",
                    "text": [
                        "<a href=\"#\">News</a>\n",
                        "<a href=\"#\">Popular</a>\n",
                        "<a href=\"#\">Web Design</a>\n",
                        "<a href=\"#\">JavaScript</a>\n",
                        "<a href=\"#\">Css</a>\n",
                        "<a href=\"#\">Jquery</a>\n"
                    ]
                }
            ],
            "metadata": {}
        }
    ],
    "metadata": {
        "orig_nbformat": 4,
        "language_info": {
            "name": "python",
            "version": "3.8.5",
            "mimetype": "text/x-python",
            "codemirror_mode": {
                "name": "ipython",
                "version": 3
            },
            "pygments_lexer": "ipython3",
            "nbconvert_exporter": "python",
            "file_extension": ".py"
        },
        "kernelspec": {
            "name": "python3",
            "display_name": "Python 3.8.5 32-bit ('venv': venv)"
        },
        "interpreter": {
            "hash": "bb476b5b9187090d27a4845e6e9ca2b345d42b269a7ce5ec66b9b1817233f7ae"
        }
    },
    "nbformat": 4,
    "nbformat_minor": 2
}