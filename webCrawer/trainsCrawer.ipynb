{
 "cells": [
  {
   "cell_type": "markdown",
   "source": [
    "- 爬台鐵時刻表 \r\n",
    "https://www.railway.gov.tw/tra-tip-web/tip\r\n",
    "# 1.一開始先get網頁\r\n",
    "# 2.再準備form表單的資訊和傳送網址\r\n",
    "# 3.最後分析回傳結果跟網頁內容\r\n"
   ],
   "metadata": {}
  },
  {
   "cell_type": "code",
   "execution_count": 1,
   "source": [
    "import requests\r\n",
    "from bs4 import BeautifulSoup\r\n",
    "import time\r\n",
    "\r\n",
    "url = 'https://www.railway.gov.tw/tra-tip-web/tip'\r\n",
    "# kv 站名以及代碼\r\n",
    "staDic = {}\r\n",
    "today = time.strftime('%Y/%m/%d').lstrip('0')\r\n",
    "startTime = '06:00'\r\n",
    "endTime = '12:00'\r\n",
    "\r\n",
    "def getTrip():\r\n",
    "    response = requests.get(url)\r\n",
    "    if response.status_code != 200:\r\n",
    "        print('URL發生錯誤:'+url)\r\n",
    "        return\r\n",
    "    # 1.一開始先get網頁\r\n",
    "    soup = BeautifulSoup(response.text,'html5lib')\r\n",
    "    # \"站名\" 都是被一個 div id = cityHot的包起來\r\n",
    "    stations = soup.find(id = 'cityHot').ul.find_all('li')\r\n",
    "    for station in stations :\r\n",
    "        stationName = station.button.text #取得所有的站名list\r\n",
    "        stationId = station.button['title']\r\n",
    "        #dict [k] = v 站名字典\r\n",
    "        staDic[stationName] = stationId \r\n",
    "    # csrf 防禦之類的 \r\n",
    "    csrf = soup.find(id ='queryForm').find('input',{'name':'_csrf'})['value']\r\n",
    "    # 2.再準備form表單的資訊和傳送網址\r\n",
    "    formData = {\r\n",
    "        'trainTypeList':'ALL',\r\n",
    "        'transfer':'ONE',\r\n",
    "        'startOrEndTime':'True',\r\n",
    "        'startStation':staDic['臺北'],\r\n",
    "        'endStation':staDic['新竹'],\r\n",
    "        'rideDate':today,\r\n",
    "        'startTime':startTime,\r\n",
    "        'endTime':endTime\r\n",
    "    }\r\n",
    "    \r\n",
    "    # 3.最後分析回傳結果跟網頁內容\r\n",
    "    #找到傳送表單的網址\r\n",
    "    queryUrl = soup.find(id = 'queryForm')['action']\r\n",
    "    #提交表單 (domin + 剛剛找到的網址queryURL , 表單內容)\r\n",
    "    queryResponse = requests.post('https://www.railway.gov.tw'+queryUrl , data=formData)\r\n",
    "    querySoup = BeautifulSoup(queryResponse.text , 'html5lib')\r\n",
    "\r\n",
    "    trs = querySoup.find_all('tr' , 'trip-column')\r\n",
    "    for tr in trs :\r\n",
    "        td = tr.find_all('td')\r\n",
    "        #車種車次\r\n",
    "        train_type = td[0].ul.li.a.text\r\n",
    "        #出發時間\r\n",
    "        go_time = td[1].text\r\n",
    "        #抵達時間\r\n",
    "        arrival_time = td[2].text\r\n",
    "        # print(\"{0} : {1} : {2}\").format(train_type,go_time,arrival_time )\r\n",
    "        print('車次車種 : {0} | 開始時間:{1} -> 抵達時間:{2}'.format(train_type,go_time,arrival_time))\r\n",
    "\r\n",
    "\r\n",
    "\r\n",
    "getTrip()"
   ],
   "outputs": [
    {
     "output_type": "stream",
     "name": "stdout",
     "text": [
      "車次車種 : 莒光1 | 開始時間:06:10 -> 抵達時間:07:18\n",
      "車次車種 : 區間1117 | 開始時間:06:18 -> 抵達時間:07:56\n",
      "車次車種 : 自強103 | 開始時間:06:27 -> 抵達時間:07:34\n",
      "車次車種 : 區間1121 | 開始時間:06:40 -> 抵達時間:08:19\n",
      "車次車種 : 自強105 | 開始時間:07:00 -> 抵達時間:08:11\n",
      "車次車種 : 區間2143 | 開始時間:07:04 -> 抵達時間:08:35\n",
      "車次車種 : 莒光507 | 開始時間:07:13 -> 抵達時間:08:47\n",
      "車次車種 : 區間1127 | 開始時間:07:24 -> 抵達時間:09:02\n",
      "車次車種 : 區間1131 | 開始時間:07:35 -> 抵達時間:09:15\n",
      "車次車種 : 區間2153 | 開始時間:08:03 -> 抵達時間:09:47\n",
      "車次車種 : 莒光2 | 開始時間:08:10 -> 抵達時間:20:28\n",
      "車次車種 : 自強109 | 開始時間:08:13 -> 抵達時間:09:21\n",
      "車次車種 : 自強113 | 開始時間:08:28 -> 抵達時間:09:36\n",
      "車次車種 : 區間1137 | 開始時間:08:32 -> 抵達時間:10:07\n",
      "車次車種 : 區間1141 | 開始時間:08:48 -> 抵達時間:10:25\n",
      "車次車種 : 自強115 | 開始時間:08:59 -> 抵達時間:10:11\n",
      "車次車種 : 區間2163 | 開始時間:09:06 -> 抵達時間:10:36\n",
      "車次車種 : 莒光511 | 開始時間:09:17 -> 抵達時間:10:43\n",
      "車次車種 : 區間1147 | 開始時間:09:25 -> 抵達時間:10:57\n",
      "車次車種 : 區間1151 | 開始時間:09:44 -> 抵達時間:11:25\n",
      "車次車種 : 自強117 | 開始時間:10:00 -> 抵達時間:11:08\n",
      "車次車種 : 區間2173 | 開始時間:10:05 -> 抵達時間:11:35\n",
      "車次車種 : 區間1157 | 開始時間:10:23 -> 抵達時間:11:57\n",
      "車次車種 : 區間1161 | 開始時間:10:45 -> 抵達時間:12:22\n",
      "車次車種 : 自強121 | 開始時間:11:00 -> 抵達時間:12:08\n",
      "車次車種 : 區間2183 | 開始時間:11:06 -> 抵達時間:12:36\n",
      "車次車種 : 莒光513 | 開始時間:11:18 -> 抵達時間:12:47\n",
      "車次車種 : 自強123 | 開始時間:11:58 -> 抵達時間:13:06\n"
     ]
    }
   ],
   "metadata": {}
  },
  {
   "cell_type": "code",
   "execution_count": 11,
   "source": [
    "dict = {}\r\n",
    "dict['leo'] = 'me'\r\n",
    "print(dict)"
   ],
   "outputs": [
    {
     "output_type": "stream",
     "name": "stdout",
     "text": [
      "{'leo': 'me'}\n"
     ]
    }
   ],
   "metadata": {}
  }
 ],
 "metadata": {
  "orig_nbformat": 4,
  "language_info": {
   "name": "python",
   "version": "3.8.5",
   "mimetype": "text/x-python",
   "codemirror_mode": {
    "name": "ipython",
    "version": 3
   },
   "pygments_lexer": "ipython3",
   "nbconvert_exporter": "python",
   "file_extension": ".py"
  },
  "kernelspec": {
   "name": "python3",
   "display_name": "Python 3.8.5 32-bit ('venv': venv)"
  },
  "interpreter": {
   "hash": "bb476b5b9187090d27a4845e6e9ca2b345d42b269a7ce5ec66b9b1817233f7ae"
  }
 },
 "nbformat": 4,
 "nbformat_minor": 2
}